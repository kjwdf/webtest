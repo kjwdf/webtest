{
 "cells": [
  {
   "cell_type": "code",
   "execution_count": 1,
   "id": "7d84b5e1",
   "metadata": {},
   "outputs": [],
   "source": [
    "# -*- coding: utf-8 -*-\n",
    "\n",
    "import pandas as pd\n",
    "\n",
    "# read_csv 함수로 데이터를 Dataframe 형태로 불러옵니다.\n",
    "file_path = '../data/chipotle.tsv'\n",
    "chipo = pd.read_csv(file_path, sep = '\\t')"
   ]
  },
  {
   "cell_type": "code",
   "execution_count": 2,
   "id": "4a575648",
   "metadata": {},
   "outputs": [
    {
     "name": "stdout",
     "output_type": "stream",
     "text": [
      "item_name\n",
      "Chicken Bowl                    8044.63\n",
      "Chicken Burrito                 6387.06\n",
      "Steak Burrito                   4236.13\n",
      "Steak Bowl                      2479.81\n",
      "Chips and Guacamole             2475.62\n",
      "Chicken Salad Bowl              1506.25\n",
      "Chicken Soft Tacos              1199.01\n",
      "Chips and Fresh Tomato Salsa    1033.96\n",
      "Veggie Burrito                  1002.27\n",
      "Veggie Bowl                      901.95\n",
      "Name: sales, dtype: float64\n"
     ]
    }
   ],
   "source": [
    "# 가격 컬럼을 숫자형으로 변환\n",
    "chipo['item_price'] = chipo['item_price'].apply(lambda x: float(x[1:-1]))\n",
    "\n",
    "# 각 아이템별 총판매액수 계산\n",
    "chipo['sales'] = chipo['quantity'] * chipo['item_price']\n",
    "\n",
    "# 각 아이템별 총판매액수 합계 구하기\n",
    "item_sales = chipo.groupby('item_name')['sales'].sum()\n",
    "\n",
    "# 총판매액수가 가장 높은 상위 10개의 품목 출력\n",
    "top_10_items = item_sales.nlargest(10)\n",
    "print(top_10_items)"
   ]
  },
  {
   "cell_type": "code",
   "execution_count": null,
   "id": "9b402d2c",
   "metadata": {},
   "outputs": [],
   "source": []
  }
 ],
 "metadata": {
  "kernelspec": {
   "display_name": "Python 3 (ipykernel)",
   "language": "python",
   "name": "python3"
  },
  "language_info": {
   "codemirror_mode": {
    "name": "ipython",
    "version": 3
   },
   "file_extension": ".py",
   "mimetype": "text/x-python",
   "name": "python",
   "nbconvert_exporter": "python",
   "pygments_lexer": "ipython3",
   "version": "3.8.16"
  }
 },
 "nbformat": 4,
 "nbformat_minor": 5
}
