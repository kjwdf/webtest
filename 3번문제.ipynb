{
 "cells": [
  {
   "cell_type": "code",
   "execution_count": 29,
   "id": "75b2a1e7",
   "metadata": {},
   "outputs": [
    {
     "name": "stdout",
     "output_type": "stream",
     "text": [
      "한화 평균 연봉: 22253.846153846152\n",
      "SK 평균 연봉: 17736.842105263157\n",
      "t-test 통계량: 0.6624041217840793\n",
      "p-value: 0.5099280465043418\n"
     ]
    }
   ],
   "source": [
    "# Data Source : http://www.statiz.co.kr/\n",
    "\n",
    "picher_file_path = '../data/picher_stats_2017.csv'\n",
    "batter_file_path = '../data/batter_stats_2017.csv'\n",
    "picher = pd.read_csv(picher_file_path)\n",
    "batter = pd.read_csv(batter_file_path)\n",
    "salaries = pd.concat([picher, batter])\n",
    "\n",
    "# 한화팀과 SK팀 데이터 나누기\n",
    "HanWha = salaries.loc[salaries['팀명'] == '한화']\n",
    "SK =  salaries.loc[salaries['팀명'] == 'SK']\n",
    "\n",
    "# 각 팀의 연봉 평균 계산\n",
    "HanWha_salary = HanWha['연봉(2017)'].mean()\n",
    "SK_salary = SK['연봉(2017)'].mean()\n",
    "\n",
    "# t-test로 두 팀 간의 차이 검정\n",
    "t_stat, p_val = ttest_ind(HanWha['연봉(2017)'], SK['연봉(2017)'], equal_var=False)\n",
    "\n",
    "print('한화 평균 연봉:', HanWha_salary)\n",
    "print('SK 평균 연봉:', SK_salary)\n",
    "print('t-test 통계량:', t_stat)\n",
    "print('p-value:', p_val)"
   ]
  },
  {
   "cell_type": "code",
   "execution_count": null,
   "id": "2d44d9cf",
   "metadata": {},
   "outputs": [],
   "source": []
  }
 ],
 "metadata": {
  "kernelspec": {
   "display_name": "Python 3 (ipykernel)",
   "language": "python",
   "name": "python3"
  },
  "language_info": {
   "codemirror_mode": {
    "name": "ipython",
    "version": 3
   },
   "file_extension": ".py",
   "mimetype": "text/x-python",
   "name": "python",
   "nbconvert_exporter": "python",
   "pygments_lexer": "ipython3",
   "version": "3.8.16"
  }
 },
 "nbformat": 4,
 "nbformat_minor": 5
}
